{
 "cells": [
  {
   "metadata": {
    "ExecuteTime": {
     "end_time": "2025-01-21T02:23:10.802902Z",
     "start_time": "2025-01-21T02:23:10.788291Z"
    }
   },
   "cell_type": "code",
   "source": [
    "from pathlib import Path\n",
    "from glob import glob\n",
    "from collections import Counter\n",
    "import matplotlib.pyplot as plt\n",
    "import numpy as np\n",
    "import random\n",
    "import math\n",
    "from tqdm import tqdm\n",
    "from numpy.ma.core import log10\n"
   ],
   "id": "f4885260294b2627",
   "outputs": [],
   "execution_count": 96
  },
  {
   "metadata": {},
   "cell_type": "markdown",
   "source": "# Get unique bigram stats",
   "id": "f02969b45ae20676"
  },
  {
   "metadata": {
    "ExecuteTime": {
     "end_time": "2025-01-21T02:47:25.850404Z",
     "start_time": "2025-01-21T02:47:25.842989Z"
    }
   },
   "cell_type": "code",
   "source": [
    "clo =[\"glim flugit\",\n",
    "\"flairb flugit gentif\",\n",
    "\"daffin clidam\",\n",
    "\"glim ka zup\",\n",
    "\"glim ka tombur bleggin\",\n",
    "\"flairb ka lapal bleggin gentif\",\n",
    "\"daffin ka tombur spad\",\n",
    "\"flairb zup\",\n",
    "\"daffin lapal nawg\",\n",
    "\"flairb tombur flugit spad\",\n",
    "\"flairb lapal spad\",\n",
    "\"bleggin spad\",\n",
    "\"ka lapal\",\n",
    "\"ka lapal flugit\",\n",
    "\"ka tombur nawg clidam\",\n",
    "\"ka lapal spad\",\n",
    "\"lapal nawg\",\n",
    "\"tombur bleggin gentif\",\n",
    "\"zup gentif\",\n",
    "\"glim nawg\",\n",
    "\"glim mawg spad\",\n",
    "\"glim clidam\",\n",
    "\"flairb ka tombur\",\n",
    "\"flairb ka zup nawg\",\n",
    "\"daffin ka zup flugit clidam\",\n",
    "\"glim ka lapal gentif\",\n",
    "\"daffin lapal\",\n",
    "\"glim zup bleggin\",\n",
    "\"daffin zup flugit spad\",\n",
    "\"daffin tombur clidam\",\n",
    "\"mawg gentif\",\n",
    "\"ka zup\",\n",
    "\"ka zup bleggin\",\n",
    "\"ka tombur mawg gentif\",\n",
    "\"ka zup spad\",\n",
    "\"tombur flugit\",\n",
    "\"zup mawg clidam\",\n",
    "\"lapal clidam\"]\n",
    "\n",
    "\n",
    "op = [\"glim flugit\",\n",
    "\"flairb flugit gentif\",\n",
    "\"daffin clidam\",\n",
    "\"glim tombur ka\",\n",
    "\"glim lapal ka bleggin\",\n",
    "\"flairb tombur ka bleggin gentif\",\n",
    "\"daffin tombur ka spad\",\n",
    "\"flairb ka\",\n",
    "\"daffin ka nawg\",\n",
    "\"flairb ka flugit spad\",\n",
    "\"flairb ka spad\",\n",
    "\"bleggin spad\",\n",
    "\"tombur ka\",\n",
    "\"lapal ka flugit\",\n",
    "\"tombur ka mawg clidam\",\n",
    "\"lapal ka spad\",\n",
    "\"ka nawg\",\n",
    "\"ka bleggin gentif\",\n",
    "\"ka gentif\",\n",
    "\"glim nawg\",\n",
    "\"glim mawg spad\",\n",
    "\"glim clidam\",\n",
    "\"flairb zup ka\",\n",
    "\"flairb lapal ka nawg\",\n",
    "\"daffin zup ka flugit clidam\",\n",
    "\"glim zup ka gentif\",\n",
    "\"daffin ka\",\n",
    "\"glim ka bleggin\",\n",
    "\"daffin ka flugit spad\",\n",
    "\"daffin ka clidam\",\n",
    "\"mawg gentif\",\n",
    "\"zup ka\",\n",
    "\"tombur ka bleggin\",\n",
    "\"zup ka nawg gentif\",\n",
    "\"lapal ka spad\",\n",
    "\"ka flugit\",\n",
    "\"ka mawg clidam\",\n",
    "\"ka clidam\"]\n"
   ],
   "id": "7eb4715109de912e",
   "outputs": [],
   "execution_count": 107
  },
  {
   "metadata": {
    "ExecuteTime": {
     "end_time": "2025-01-21T02:47:27.620765Z",
     "start_time": "2025-01-21T02:47:27.615835Z"
    }
   },
   "cell_type": "code",
   "source": [
    "random.seed(50)\n",
    "def get_bigrams(sents):\n",
    "    bigrams = [b for l in sents for b in zip(l.split(\" \")[:-1], l.split(\" \")[1:])]\n",
    "    bigram_perm = ['_'.join(list(x)) for x in bigrams if x[1]!='']\n",
    "    return bigram_perm\n"
   ],
   "id": "64ec14214361a7a1",
   "outputs": [],
   "execution_count": 108
  },
  {
   "metadata": {
    "collapsed": true,
    "ExecuteTime": {
     "end_time": "2025-01-21T02:47:28.089572Z",
     "start_time": "2025-01-21T02:47:28.084216Z"
    }
   },
   "cell_type": "code",
   "source": [
    "grammar_file = 'grammar53exp1'\n",
    "grammar_file_pert = 'grammar53exp1_permutation'\n",
    "b_a = []\n",
    "b_p = []\n",
    "for i in range(1):\n",
    "    # sents = Path(f'data_gen/grammar/{grammar_file}/{grammar_file}/{str(i)}.trn').read_text().strip().split('\\n')\n",
    "    # sents_pert = Path(f'data_gen/grammar/{grammar_file_pert}/{grammar_file_pert}/{str(i)}.trn').read_text().strip().split('\\n')\n",
    "    sents = clo\n",
    "    sents_pert = op\n",
    "    bigrams = len(Counter(get_bigrams(sents)))\n",
    "    bigrams_pert = len(Counter(get_bigrams(sents_pert)))\n",
    "    b_a.append(bigrams)\n",
    "    b_p.append(bigrams_pert)\n",
    "    print(bigrams, bigrams_pert)\n",
    "\n",
    "    counter_a = Counter(get_bigrams(sents_pert))\n",
    "    counter_b = Counter(get_bigrams(sents))\n",
    "\n",
    "print(np.mean(b_a))\n",
    "print(np.mean(b_p))"
   ],
   "id": "initial_id",
   "outputs": [
    {
     "name": "stdout",
     "output_type": "stream",
     "text": [
      "46 36\n",
      "46.0\n",
      "36.0\n"
     ]
    }
   ],
   "execution_count": 109
  },
  {
   "metadata": {
    "ExecuteTime": {
     "end_time": "2025-01-21T02:23:06.920673Z",
     "start_time": "2025-01-21T02:23:06.915870Z"
    }
   },
   "cell_type": "code",
   "source": "",
   "id": "a5157f6c6ec9a164",
   "outputs": [],
   "execution_count": 94
  },
  {
   "metadata": {},
   "cell_type": "markdown",
   "source": "# Calculate average transition probability",
   "id": "b8e10cc6294afdec"
  },
  {
   "metadata": {},
   "cell_type": "code",
   "outputs": [],
   "execution_count": null,
   "source": "",
   "id": "be5734f0776099ff"
  },
  {
   "metadata": {
    "ExecuteTime": {
     "end_time": "2025-01-21T03:02:57.093235Z",
     "start_time": "2025-01-21T03:02:15.809923Z"
    }
   },
   "cell_type": "code",
   "source": [
    "grammar_file = 'gn_grammarexp2'\n",
    "grammar_file_pert = 'gn_grammarexp2_permutation'\n",
    "\n",
    "def get_trans_freq(bigram_pair, word):\n",
    "    return sum([y for x,y in bigram_pair.items() if x.split('_')[0]==word])\n",
    "\n",
    "def get_sent_biprob(s, bigram_pair):\n",
    "    bi_s = [bigrams['_'.join(x)]/get_trans_freq(bigram_pair, x[0]) for x in zip(s.split()[:-1], s.split()[1:])]\n",
    "    return bi_s\n",
    "\n",
    "for i in range(1):\n",
    "    bi_prob = []\n",
    "    bip_prob = []\n",
    "    # uncomment if you want to calculate the transition probablity of Getz & Newport (2019)\n",
    "    # sents = clo\n",
    "    # sents_pert = op\n",
    "    sents = Path(f'data_gen/grammar/{grammar_file}/{grammar_file}/{str(i)}.trn').read_text().strip().split('\\n')\n",
    "    sents_pert = Path(f'data_gen/grammar/{grammar_file_pert}/{grammar_file_pert}/{str(i)}.trn').read_text().strip().split('\\n')\n",
    "    bigrams = Counter(get_bigrams(sents))\n",
    "    bigrams_pert = Counter(get_bigrams(sents_pert))\n",
    "    for s, sp in tqdm(zip(sents, sents_pert)):\n",
    "        av_bi_prob = get_sent_biprob(s, bigrams)\n",
    "        bi_prob.extend(av_bi_prob)\n",
    "        av_bip_prob = get_sent_biprob(sp, bigrams_pert)\n",
    "        bip_prob.extend(av_bip_prob)  \n",
    "    avg_log_bi_prob = sum(-math.log(prob) for prob in bi_prob if prob > 0) / len(bi_prob)\n",
    "    avg_log_bip_prob = sum(-math.log(prob) for prob in bip_prob if prob > 0) / len(bip_prob)\n",
    "    assert len(bi_prob) == len(bip_prob)\n",
    "    print(avg_log_bi_prob, avg_log_bip_prob)\n",
    "        \n",
    "        \n",
    "    "
   ],
   "id": "5bf7ad3095350b3b",
   "outputs": [
    {
     "name": "stderr",
     "output_type": "stream",
     "text": [
      "9500it [00:41, 230.41it/s]"
     ]
    },
    {
     "name": "stdout",
     "output_type": "stream",
     "text": [
      "3.5341524732109044 0.9348941324607767\n"
     ]
    },
    {
     "name": "stderr",
     "output_type": "stream",
     "text": [
      "\n"
     ]
    }
   ],
   "execution_count": 116
  },
  {
   "metadata": {
    "ExecuteTime": {
     "end_time": "2025-01-21T01:39:51.451662Z",
     "start_time": "2025-01-21T01:39:51.423759Z"
    }
   },
   "cell_type": "code",
   "source": "",
   "id": "51d62bed9420c89a",
   "outputs": [
    {
     "ename": "NameError",
     "evalue": "name 'log' is not defined",
     "output_type": "error",
     "traceback": [
      "\u001B[0;31m---------------------------------------------------------------------------\u001B[0m",
      "\u001B[0;31mNameError\u001B[0m                                 Traceback (most recent call last)",
      "Cell \u001B[0;32mIn[32], line 1\u001B[0m\n\u001B[0;32m----> 1\u001B[0m \u001B[43mlog\u001B[49m(\u001B[38;5;241m5\u001B[39m)\n",
      "\u001B[0;31mNameError\u001B[0m: name 'log' is not defined"
     ]
    }
   ],
   "execution_count": 32
  },
  {
   "metadata": {
    "ExecuteTime": {
     "end_time": "2025-01-21T02:31:15.831136Z",
     "start_time": "2025-01-21T02:31:15.314207Z"
    }
   },
   "cell_type": "code",
   "source": "",
   "id": "af5083316420f7db",
   "outputs": [
    {
     "name": "stderr",
     "output_type": "stream",
     "text": [
      "100%|██████████| 9500/9500 [00:00<00:00, 606722.42it/s]\n"
     ]
    },
    {
     "name": "stdout",
     "output_type": "stream",
     "text": [
      "3.283686886187573 3.139806868017776\n"
     ]
    },
    {
     "name": "stderr",
     "output_type": "stream",
     "text": [
      "100%|██████████| 9500/9500 [00:00<00:00, 611133.25it/s]\n"
     ]
    },
    {
     "name": "stdout",
     "output_type": "stream",
     "text": [
      "3.280469330003706 3.1358354870678844\n"
     ]
    },
    {
     "name": "stderr",
     "output_type": "stream",
     "text": [
      "100%|██████████| 9500/9500 [00:00<00:00, 589070.22it/s]\n"
     ]
    },
    {
     "name": "stdout",
     "output_type": "stream",
     "text": [
      "3.2798950124435255 3.132767692928678\n"
     ]
    },
    {
     "name": "stderr",
     "output_type": "stream",
     "text": [
      "100%|██████████| 9500/9500 [00:00<00:00, 579306.91it/s]\n"
     ]
    },
    {
     "name": "stdout",
     "output_type": "stream",
     "text": [
      "3.2822232173536285 3.1362694007186107\n"
     ]
    },
    {
     "name": "stderr",
     "output_type": "stream",
     "text": [
      "100%|██████████| 9500/9500 [00:00<00:00, 572317.49it/s]\n"
     ]
    },
    {
     "name": "stdout",
     "output_type": "stream",
     "text": [
      "3.278501945673701 3.129821687875135\n"
     ]
    },
    {
     "name": "stderr",
     "output_type": "stream",
     "text": [
      "100%|██████████| 9500/9500 [00:00<00:00, 544476.62it/s]\n"
     ]
    },
    {
     "name": "stdout",
     "output_type": "stream",
     "text": [
      "3.2905025421602616 3.1478150691186118\n"
     ]
    },
    {
     "name": "stderr",
     "output_type": "stream",
     "text": [
      "100%|██████████| 9500/9500 [00:00<00:00, 532627.83it/s]\n"
     ]
    },
    {
     "name": "stdout",
     "output_type": "stream",
     "text": [
      "3.287343906337925 3.1481364520559834\n"
     ]
    },
    {
     "name": "stderr",
     "output_type": "stream",
     "text": [
      "100%|██████████| 9500/9500 [00:00<00:00, 534793.89it/s]\n"
     ]
    },
    {
     "name": "stdout",
     "output_type": "stream",
     "text": [
      "3.288983886492472 3.1300798537266754\n"
     ]
    },
    {
     "name": "stderr",
     "output_type": "stream",
     "text": [
      "100%|██████████| 9500/9500 [00:00<00:00, 529422.00it/s]\n"
     ]
    },
    {
     "name": "stdout",
     "output_type": "stream",
     "text": [
      "3.285000231936679 3.139836049582841\n"
     ]
    },
    {
     "name": "stderr",
     "output_type": "stream",
     "text": [
      "100%|██████████| 9500/9500 [00:00<00:00, 522096.57it/s]"
     ]
    },
    {
     "name": "stdout",
     "output_type": "stream",
     "text": [
      "3.285888192192987 3.1338768291532233\n"
     ]
    },
    {
     "name": "stderr",
     "output_type": "stream",
     "text": [
      "\n"
     ]
    }
   ],
   "execution_count": 101
  },
  {
   "metadata": {},
   "cell_type": "code",
   "outputs": [],
   "execution_count": null,
   "source": "",
   "id": "8f4e93f70a62f779"
  }
 ],
 "metadata": {
  "kernelspec": {
   "display_name": "Python 3",
   "language": "python",
   "name": "python3"
  },
  "language_info": {
   "codemirror_mode": {
    "name": "ipython",
    "version": 2
   },
   "file_extension": ".py",
   "mimetype": "text/x-python",
   "name": "python",
   "nbconvert_exporter": "python",
   "pygments_lexer": "ipython2",
   "version": "2.7.6"
  }
 },
 "nbformat": 4,
 "nbformat_minor": 5
}
